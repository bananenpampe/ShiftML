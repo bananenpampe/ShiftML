{
 "cells": [
  {
   "cell_type": "code",
   "execution_count": 1,
   "metadata": {},
   "outputs": [],
   "source": [
    "import rascaline\n",
    "import ase.io\n",
    "import numpy as np\n",
    "\n",
    "import random\n",
    "\n",
    "SEED = 0\n",
    "\n",
    "random.seed(SEED)\n",
    "\n",
    "from rascaline.torch.calculators import SoapPowerSpectrum\n",
    "from rascaline.torch import systems_to_torch\n",
    "\n",
    "import torch\n",
    "from itertools import combinations_with_replacement\n",
    "import metatensor\n",
    "\n",
    "from sklearn.linear_model import Ridge\n",
    "\n",
    "import matplotlib.pyplot as plt\n",
    "from sklearn.metrics import mean_squared_error"
   ]
  },
  {
   "cell_type": "code",
   "execution_count": 2,
   "metadata": {},
   "outputs": [],
   "source": [
    "#NTRAIN = 150\n",
    "\n",
    "\n",
    "frames_train_raw = ase.io.read(\"CSD-3k+S546_shift_tensors.xyz\",\":\")\n",
    "frames_test = ase.io.read(\"CSD-500+104-7_shift_tensors.xyz\",\":\")\n",
    "\n",
    "random.shuffle(frames_train_raw)\n",
    "#frames_train_raw = frames_train_raw[:NTRAIN]\n",
    "\n",
    "\n",
    "frames_train = []\n",
    "\n",
    "for frame in frames_train_raw:\n",
    "    if frame.info[\"STATUS\"] == \"PASSING\": \n",
    "        frames_train.append(frame)\n",
    "\n",
    "def get_unique_species(frames):\n",
    "    \"\"\" returns unique species of all frames in frames\n",
    "    \"\"\"\n",
    "    if len(frames) == 1:\n",
    "        frames = [frames]\n",
    "    \n",
    "    u_i = []\n",
    "\n",
    "    for frame in frames:\n",
    "        u_i.extend(np.unique(frame.get_atomic_numbers()).tolist())\n",
    "    \n",
    "    return np.unique(u_i)\n",
    "\n",
    "def get_cs(frames, \n",
    "           species=6, \n",
    "           identifier=\"cs_iso\"):\n",
    "    \"\"\"Function that extracts chemical shieldings from list of ase.Atoms objetcs\"\"\"\n",
    "    \n",
    "    cs = []\n",
    "\n",
    "    for frame in frames:\n",
    "        cs.append(frame.arrays[identifier][frame.get_atomic_numbers() == species])\n",
    "\n",
    "    return np.hstack(cs)\n",
    "\n",
    "unique_species_train = get_unique_species(frames_train)\n",
    "\n",
    "Ytrain = get_cs(frames_train)\n",
    "Ytest = get_cs(frames_test)"
   ]
  },
  {
   "cell_type": "code",
   "execution_count": 3,
   "metadata": {},
   "outputs": [],
   "source": [
    "hypers_ps = {\n",
    "    \"cutoff\": 4.6,\n",
    "    \"max_radial\": 6,\n",
    "    \"max_angular\": 6,\n",
    "    \"atomic_gaussian_width\": 0.18,\n",
    "    \"center_atom_weight\": 0.0,\n",
    "    \"radial_basis\": {\n",
    "        \"Gto\": {},\n",
    "    },\n",
    "    \"cutoff_function\": {\n",
    "        \"ShiftedCosine\": {\"width\":0.5},\n",
    "    },\n",
    "    \"radial_scaling\":{\"Willatt2018\": {\"exponent\": 4.7, \"rate\": 2.0, \"scale\": 2.6}}\n",
    "}\n",
    "\n",
    "# calculator object to compute features initialize with hypers\n",
    "calculator = SoapPowerSpectrum(**hypers_ps)\n",
    "\n",
    "frames_train = systems_to_torch(frames_train)\n",
    "frames_test = systems_to_torch(frames_test)"
   ]
  },
  {
   "cell_type": "code",
   "execution_count": 4,
   "metadata": {},
   "outputs": [
    {
     "name": "stdout",
     "output_type": "stream",
     "text": [
      "\u001b[0;31mSignature:\u001b[0m\n",
      "\u001b[0msystems_to_torch\u001b[0m\u001b[0;34m(\u001b[0m\u001b[0;34m\u001b[0m\n",
      "\u001b[0;34m\u001b[0m    \u001b[0msystems\u001b[0m\u001b[0;34m,\u001b[0m\u001b[0;34m\u001b[0m\n",
      "\u001b[0;34m\u001b[0m    \u001b[0mpositions_requires_grad\u001b[0m\u001b[0;34m=\u001b[0m\u001b[0;32mNone\u001b[0m\u001b[0;34m,\u001b[0m\u001b[0;34m\u001b[0m\n",
      "\u001b[0;34m\u001b[0m    \u001b[0mcell_requires_grad\u001b[0m\u001b[0;34m=\u001b[0m\u001b[0;32mNone\u001b[0m\u001b[0;34m,\u001b[0m\u001b[0;34m\u001b[0m\n",
      "\u001b[0;34m\u001b[0m\u001b[0;34m)\u001b[0m \u001b[0;34m->\u001b[0m \u001b[0mList\u001b[0m\u001b[0;34m[\u001b[0m\u001b[0;34m<\u001b[0m\u001b[0mtorch\u001b[0m\u001b[0;34m.\u001b[0m\u001b[0mScriptClass\u001b[0m \u001b[0mobject\u001b[0m \u001b[0mat\u001b[0m \u001b[0;36m0x7fe17d494470\u001b[0m\u001b[0;34m>\u001b[0m\u001b[0;34m]\u001b[0m\u001b[0;34m\u001b[0m\u001b[0;34m\u001b[0m\u001b[0m\n",
      "\u001b[0;31mDocstring:\u001b[0m\n",
      "Convert a arbitrary system to metatensor's atomistic\n",
      ":py:class:`metatensor.torch.atomistic.System`, putting all the data in\n",
      ":py:class:`torch.Tensor` and making the overall object compatible with TorchScript.\n",
      "\n",
      ":param system: any system supported by rascaline. If this is an iterable of system,\n",
      "    this function converts them all and returns a list of converted systems.\n",
      "\n",
      ":param positions_requires_grad: The value of ``requires_grad`` on the output\n",
      "    ``positions``. If :py:obj:`None`` and the positions of the input is already a\n",
      "    :py:class:`torch.Tensor`, ``requires_grad`` is kept the same. Otherwise it is\n",
      "    initialized to :py:obj:`False`.\n",
      "\n",
      ":param cell_requires_grad: The value of ``requires_grad`` on the output ``cell``. If\n",
      "    :py:obj:`None` and the positions of the input is already a\n",
      "    :py:class:`torch.Tensor`, ``requires_grad`` is kept the same. Otherwise it is\n",
      "    initialized to :py:obj:`False`.\n",
      "\u001b[0;31mFile:\u001b[0m      ~/miniconda3/envs/shiftML/lib/python3.10/site-packages/rascaline/torch/system.py\n",
      "\u001b[0;31mType:\u001b[0m      function"
     ]
    }
   ],
   "source": [
    "?systems_to_torch"
   ]
  },
  {
   "cell_type": "code",
   "execution_count": 5,
   "metadata": {},
   "outputs": [],
   "source": [
    "filter_by_central_id = 6\n",
    "\n",
    "neighbours_idx = list(combinations_with_replacement(unique_species_train ,r=2))\n",
    "neighbours_idx = torch.tensor(neighbours_idx)\n",
    "central_idx = torch.ones_like(neighbours_idx[:,0]).reshape(-1,1)\n",
    "central_idx.fill_(filter_by_central_id)\n",
    "labels_vals = torch.cat([central_idx,neighbours_idx],dim=1)\n",
    "filter_by = metatensor.torch.Labels([\"center_type\", \"neighbor_1_type\", \"neighbor_2_type\" ], labels_vals)"
   ]
  },
  {
   "cell_type": "code",
   "execution_count": 6,
   "metadata": {},
   "outputs": [],
   "source": [
    "def densify(feat):\n",
    "    return feat.keys_to_properties([\"neighbor_1_type\", \"neighbor_2_type\" ])"
   ]
  },
  {
   "cell_type": "code",
   "execution_count": 7,
   "metadata": {},
   "outputs": [],
   "source": [
    "Xtrain = densify(calculator(frames_train,selected_keys=filter_by))\n",
    "Xtest = densify(calculator(frames_test,selected_keys=filter_by))\n",
    "\n",
    "Xtrain_np = Xtrain.block(0).values.numpy()\n",
    "Xtest_np = Xtest.block(0).values.numpy()\n",
    "# for simpl\n",
    "\n",
    "Ytrain = Ytrain.reshape(-1,1)\n",
    "Ytest = Ytest.reshape(-1,1)"
   ]
  },
  {
   "cell_type": "code",
   "execution_count": 8,
   "metadata": {},
   "outputs": [
    {
     "data": {
      "text/plain": [
       "(103912, 3780)"
      ]
     },
     "execution_count": 8,
     "metadata": {},
     "output_type": "execute_result"
    }
   ],
   "source": [
    "Xtrain_np.shape"
   ]
  },
  {
   "cell_type": "code",
   "execution_count": 9,
   "metadata": {},
   "outputs": [],
   "source": [
    "model = Ridge(alpha=1e-03)\n",
    "model.fit(Xtrain_np, Ytrain)\n",
    "Ypred = model.predict(Xtest_np)"
   ]
  },
  {
   "cell_type": "code",
   "execution_count": 10,
   "metadata": {},
   "outputs": [
    {
     "data": {
      "text/plain": [
       "<matplotlib.collections.PathCollection at 0x7fe1786f2c20>"
      ]
     },
     "execution_count": 10,
     "metadata": {},
     "output_type": "execute_result"
    },
    {
     "data": {
      "image/png": "[encoded data removed]",
      "text/plain": [
       "<Figure size 640x480 with 1 Axes>"
      ]
     },
     "metadata": {},
     "output_type": "display_data"
    }
   ],
   "source": [
    "plt.scatter(Ypred,Ytest, s=0.1, alpha=0.5)"
   ]
  },
  {
   "cell_type": "code",
   "execution_count": 11,
   "metadata": {},
   "outputs": [
    {
     "name": "stderr",
     "output_type": "stream",
     "text": [
      "/home/yuxuzhan/miniconda3/envs/shiftML/lib/python3.10/site-packages/sklearn/metrics/_regression.py:492: FutureWarning: 'squared' is deprecated in version 1.4 and will be removed in 1.6. To calculate the root mean squared error, use the function'root_mean_squared_error'.\n",
      "  warnings.warn(\n"
     ]
    },
    {
     "data": {
      "text/plain": [
       "4.904847210004231"
      ]
     },
     "execution_count": 11,
     "metadata": {},
     "output_type": "execute_result"
    }
   ],
   "source": [
    "mean_squared_error(Ypred,Ytest, squared=False )"
   ]
  },
  {
   "cell_type": "code",
   "execution_count": null,
   "metadata": {},
   "outputs": [],
   "source": []
  }
 ],
 "metadata": {
  "kernelspec": {
   "display_name": "SMLv2",
   "language": "python",
   "name": "python3"
  },
  "language_info": {
   "codemirror_mode": {
    "name": "ipython",
    "version": 3
   },
   "file_extension": ".py",
   "mimetype": "text/x-python",
   "name": "python",
   "nbconvert_exporter": "python",
   "pygments_lexer": "ipython3",
   "version": "3.10.14"
  }
 },
 "nbformat": 4,
 "nbformat_minor": 2
}
